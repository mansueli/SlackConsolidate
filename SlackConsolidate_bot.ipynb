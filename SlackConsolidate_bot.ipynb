{
  "cells": [
    {
      "cell_type": "markdown",
      "metadata": {
        "id": "view-in-github",
        "colab_type": "text"
      },
      "source": [
        "<a href=\"https://colab.research.google.com/github/mansueli/SlackConsolidate/blob/main/SlackConsolidate_bot.ipynb\" target=\"_parent\"><img src=\"https://colab.research.google.com/assets/colab-badge.svg\" alt=\"Open In Colab\"/></a>"
      ]
    },
    {
      "cell_type": "markdown",
      "metadata": {
        "id": "eMyAV6yQX_Pr"
      },
      "source": [
        "![Supabase](https://raw.githubusercontent.com/supabase/supabase/master/packages/common/assets/images/supabase-logo-wordmark--light.svg)\n",
        "\n"
      ]
    },
    {
      "cell_type": "markdown",
      "metadata": {
        "id": "iRXRFwRBG-N5"
      },
      "source": [
        "## Loading the .env file with the keys"
      ]
    },
    {
      "cell_type": "code",
      "execution_count": null,
      "metadata": {
        "colab": {
          "base_uri": "https://localhost:8080/",
          "height": 74,
          "resources": {
            "http://localhost:8080/nbextensions/google.colab/files.js": {
              "data": "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",
              "headers": [
                [
                  "content-type",
                  "application/javascript"
                ]
              ],
              "ok": true,
              "status": 200,
              "status_text": ""
            }
          }
        },
        "id": "kW6ELawJF4Mi",
        "outputId": "867bc292-c0bb-40ff-ef68-e78b05d2050c"
      },
      "outputs": [
        {
          "data": {
            "text/html": [
              "\n",
              "     <input type=\"file\" id=\"files-323d3530-4a88-4700-a98c-f8d6255d944d\" name=\"files[]\" multiple disabled\n",
              "        style=\"border:none\" />\n",
              "     <output id=\"result-323d3530-4a88-4700-a98c-f8d6255d944d\">\n",
              "      Upload widget is only available when the cell has been executed in the\n",
              "      current browser session. Please rerun this cell to enable.\n",
              "      </output>\n",
              "      <script src=\"/nbextensions/google.colab/files.js\"></script> "
            ],
            "text/plain": [
              "<IPython.core.display.HTML object>"
            ]
          },
          "metadata": {},
          "output_type": "display_data"
        },
        {
          "name": "stdout",
          "output_type": "stream",
          "text": [
            "Saving env file.txt to env file.txt\n"
          ]
        }
      ],
      "source": [
        "from google.colab import files\n",
        "import os\n",
        "#Cleaning up the directory\n",
        "local_files =  [f for f in os.listdir(\".\") if os.path.isfile(f)]\n",
        "for f in local_files:\n",
        "  os.remove(f)\n",
        "uploaded = files.upload()\n",
        "file_name = list(uploaded.keys())[0]\n",
        "#Renaming the .env file \n",
        "os.rename(file_name,\".env\")"
      ]
    },
    {
      "cell_type": "markdown",
      "metadata": {
        "id": "TbwoQLstG8uH"
      },
      "source": [
        "### Installing the required modules"
      ]
    },
    {
      "cell_type": "code",
      "execution_count": null,
      "metadata": {
        "id": "LmwRNRa5HLV1"
      },
      "outputs": [],
      "source": [
        "#To read .env file:\n",
        "!pip install python-dotenv\n",
        "#Supabase client:\n",
        "!pip install supabase\n",
        "#Slack SDK:\n",
        "!pip install slack-sdk"
      ]
    },
    {
      "cell_type": "markdown",
      "metadata": {
        "id": "avXMVKkeIYrN"
      },
      "source": [
        "# The Slackbot "
      ]
    },
    {
      "cell_type": "markdown",
      "metadata": {
        "id": "3_rCM5ap2ltZ"
      },
      "source": [
        "**Note:** Google will terminate after a while. You'll need to run this on a server."
      ]
    },
    {
      "cell_type": "code",
      "execution_count": null,
      "metadata": {
        "colab": {
          "background_save": true
        },
        "id": "jtyhJBb_2csR"
      },
      "outputs": [],
      "source": [
        "import time\n",
        "import logging\n",
        "from slack_sdk import WebClient\n",
        "from slack_sdk.errors import SlackApiError\n",
        "from supabase import create_client, Client\n",
        "from datetime import datetime\n",
        "from dotenv import dotenv_values\n",
        "############\n",
        "# Setting env: \n",
        "############\n",
        "logger = logging.getLogger(__name__)\n",
        "config = dotenv_values(\".env\")\n",
        "bot_client = WebClient(token=config['SLACK_BOT_TOKEN'])\n",
        "client = WebClient(token=config['SLACK_TOKEN'])\n",
        "SUPABASE_URL=config['SUPABASE_URL']\n",
        "SUPABASE_KEY=config['SUPABASE_KEY']\n",
        "supabase: Client = create_client(SUPABASE_URL, SUPABASE_KEY)\n",
        "SLACK_ORG = config['SLACK_ORG']\n",
        "SLACK_ORG_LINK = f\"https://{SLACK_ORG}.slack.com/archives/\"\n",
        "############\n",
        "# Config: \n",
        "############\n",
        "# 1.4 seconds should be the minimum to avoid passing Slack API limits.\n",
        "# https://api.slack.com/docs/rate-limits#tier_t3\n",
        "POOLING_DELAY = 1.4  \n",
        "# Check if new channels were added each hour.\n",
        "SCAN_CHANNELS_DELAY = 3600.0\n",
        "BUFFER_SIZE = 20\n",
        "\n",
        "class SlackChannel:\n",
        "  def __init__(self, id, name, p_level, dest_channel_id, dest_channel, private):\n",
        "    \"\"\"_summary_\n",
        "\n",
        "      Args:\n",
        "          id (str): Slack channel ID from the source channel\n",
        "          name (str): Name of the source channel (used in logging)\n",
        "          p_level (str): (Optional message) added when posting\n",
        "          dest_channel_id (str): Slack channel ID for the destination channel\n",
        "          dest_channel (str): Name of the destination channel (used in logging)\n",
        "          private (int): Integer to check if the channel is private (private==1) or public channel\n",
        "      Returns:\n",
        "          SlackChannel: object\n",
        "    \"\"\"\n",
        "    self.id = id\n",
        "    self.name = name\n",
        "    self.p_level = p_level\n",
        "    self.dest_channel = dest_channel\n",
        "    self.dest_channel_id  = dest_channel_id\n",
        "    self.private  = private\n",
        "\n",
        "def setup():\n",
        "    \"\"\"_summary_\n",
        "        Fetches the list of channels from Supabase and returns them in a dict()\n",
        "    Returns:\n",
        "        dict: Dictionary with SlackChannel objects. \n",
        "    \"\"\"\n",
        "    channels = dict()\n",
        "    data = supabase.from_(\"slack_channels\").select(\"channel_id, channel, p_level, dest_channel, dest_channel_id, private\").execute().data\n",
        "    data_dic = data\n",
        "    for row in data_dic:\n",
        "        channels[row['channel_id']] = SlackChannel(id = row['channel_id'],\n",
        "        name = row['channel'],\n",
        "        p_level = row['p_level'],\n",
        "        dest_channel = row['dest_channel'],\n",
        "        dest_channel_id = row['dest_channel_id'],\n",
        "        private = row['private'])\n",
        "    return channels\n",
        "\n",
        "def post( src_channel, link, message):\n",
        "    \"\"\"_summary_\n",
        "        Post a message from a source channel into the destination channel\n",
        "    Args:\n",
        "        src_channel (SlackChannel): SlackChannel object\n",
        "        link (_type_): The link of the message in slack\n",
        "        message (_type_): _description_\n",
        "\n",
        "    Returns:\n",
        "        _type_: _description_\n",
        "    \"\"\"\n",
        "    try:\n",
        "        aux_text = \"\"\n",
        "        if src_channel.private != 1:\n",
        "            aux_text = (\"Message on <#\"+src_channel.id+\n",
        "                \">. \"+src_channel.p_level+\" \\n\"+link)\n",
        "        else:\n",
        "            aux_text = (\"Message on <#\"+src_channel.id+\n",
        "                \">.\"+src_channel.p_level+\" \\n\"+message+\" \\n\"+link)\n",
        "        result = bot_client.chat_postMessage(\n",
        "                channel= src_channel.dest_channel_id, \n",
        "                text=aux_text\n",
        "                )\n",
        "        logger.info(result)\n",
        "    except SlackApiError as e:\n",
        "        logger.error(f\"Error posting message: {e}\")\n",
        "\n",
        "def ts_to_strtime(ts):\n",
        "    \"\"\"_summary_\n",
        "        Converts the UNIX time in timestamp to ISO format.\n",
        "    Args:\n",
        "        ts (int): TS datetime\n",
        "\n",
        "    Returns:\n",
        "        str: ISO format datetime string for compatibility with Postgres.\n",
        "    \"\"\"\n",
        "    aux_ts = int(ts)\n",
        "    return str(datetime.utcfromtimestamp(aux_ts).isoformat())\n",
        "\n",
        "def loop_through_channels(channels):\n",
        "    \"\"\"_summary_\n",
        "        Loop through the channels and post messages on postgres if they aren't cached. \n",
        "    Args:\n",
        "        channels (dict): dict() with SlackChannel objects \n",
        "    \"\"\"\n",
        "    for channel_id in channels:\n",
        "        channel = channels[channel_id]\n",
        "        conversation_history = []\n",
        "        try:\n",
        "            result = client.conversations_history(channel=channel.id, limit = BUFFER_SIZE)\n",
        "            conversation_history = result[\"messages\"]\n",
        "            logger.info(\"{} messages found in {}\".format(len(conversation_history), id))\n",
        "        except SlackApiError as e:\n",
        "            logger.error(\"Error creating conversation: {}\".format(e))\n",
        "        for message in conversation_history:\n",
        "            try:\n",
        "                msg_dic = dict()\n",
        "                msg_dic['channel_name'] = channel.name\n",
        "                msg_dic['channel_id'] = channel.id\n",
        "                aux_msg = \"<@\"+message['user']+\"> wrote: \\n\"\n",
        "                msg_dic['message'] = aux_msg + message['text']\n",
        "                ts_aux  = message['ts'].split(\".\")\n",
        "                msg_dic['ts'] = ts_to_strtime(ts_aux[0])\n",
        "                msg_dic['ts_ms'] = ts_aux[1]\n",
        "                supabase.table(\"slack_watcher\").insert(msg_dic).execute()\n",
        "                auxint = ts_aux[0]+ts_aux[1]\n",
        "                auxint = auxint.replace(\".\",\"\")\n",
        "                link = SLACK_ORG_LINK+channel.id+\"/p\"+auxint\n",
        "                post(channel, link, msg_dic['message'])\n",
        "            except Exception as e:\n",
        "                pass\n",
        "        time.sleep(POOLING_DELAY)\n",
        "\n",
        "def main():\n",
        "    \"\"\"_summary_\n",
        "        Main loop to infinitely keep pooling data from channels and posting on Slack. \n",
        "        It also checks for new channels every hour. \n",
        "    \"\"\"\n",
        "    channels = setup()\n",
        "    start = time.time()\n",
        "    while True:\n",
        "        end = time.time()\n",
        "        if ((end - start) > SCAN_CHANNELS_DELAY):\n",
        "            start = time.time()\n",
        "            channels = setup()\n",
        "        else:\n",
        "            loop_through_channels(channels)\n",
        "\n",
        "if __name__ == '__main__':\n",
        "    main()"
      ]
    }
  ],
  "metadata": {
    "colab": {
      "collapsed_sections": [],
      "name": "SlackConsolidate_bot.ipynb",
      "provenance": [],
      "authorship_tag": "ABX9TyPcQ+zcr/bD3Q02hSUjNZW5",
      "include_colab_link": true
    },
    "kernelspec": {
      "display_name": "Python 3",
      "name": "python3"
    },
    "language_info": {
      "name": "python"
    }
  },
  "nbformat": 4,
  "nbformat_minor": 0
}